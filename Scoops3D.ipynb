{
  "nbformat": 4,
  "nbformat_minor": 0,
  "metadata": {
    "colab": {
      "name": "SantaLucia_Scoops3D.ipynb",
      "provenance": [],
      "collapsed_sections": []
    },
    "kernelspec": {
      "name": "python3",
      "display_name": "Python 3"
    }
  },
  "cells": [
    {
      "cell_type": "code",
      "metadata": {
        "id": "1lczZMwiZpMF",
        "outputId": "508415c5-19c9-4d66-c7d4-d0c14c10ee6e",
        "colab": {
          "base_uri": "https://localhost:8080/",
          "height": 34
        }
      },
      "source": [
        "from google.colab import drive\n",
        "drive.mount('/content/drive')"
      ],
      "execution_count": 1,
      "outputs": [
        {
          "output_type": "stream",
          "text": [
            "Drive already mounted at /content/drive; to attempt to forcibly remount, call drive.mount(\"/content/drive\", force_remount=True).\n"
          ],
          "name": "stdout"
        }
      ]
    },
    {
      "cell_type": "code",
      "metadata": {
        "id": "8QRfOucwZwrR",
        "outputId": "d829d848-149a-450d-93c2-83e7d30a6b09",
        "colab": {
          "base_uri": "https://localhost:8080/",
          "height": 170
        }
      },
      "source": [
        "!pip install rasterio\n",
        "import rasterio as rio\n",
        "import numpy as np\n",
        "import pandas as pd\n",
        "from rasterio.plot import show\n",
        "import  csv\n",
        "from itertools import chain"
      ],
      "execution_count": 2,
      "outputs": [
        {
          "output_type": "stream",
          "text": [
            "Requirement already satisfied: rasterio in /usr/local/lib/python3.6/dist-packages (1.1.7)\n",
            "Requirement already satisfied: affine in /usr/local/lib/python3.6/dist-packages (from rasterio) (2.3.0)\n",
            "Requirement already satisfied: cligj>=0.5 in /usr/local/lib/python3.6/dist-packages (from rasterio) (0.5.0)\n",
            "Requirement already satisfied: attrs in /usr/local/lib/python3.6/dist-packages (from rasterio) (20.2.0)\n",
            "Requirement already satisfied: click-plugins in /usr/local/lib/python3.6/dist-packages (from rasterio) (1.1.1)\n",
            "Requirement already satisfied: click<8,>=4.0 in /usr/local/lib/python3.6/dist-packages (from rasterio) (7.1.2)\n",
            "Requirement already satisfied: snuggs>=1.4.1 in /usr/local/lib/python3.6/dist-packages (from rasterio) (1.4.7)\n",
            "Requirement already satisfied: numpy in /usr/local/lib/python3.6/dist-packages (from rasterio) (1.18.5)\n",
            "Requirement already satisfied: pyparsing>=2.1.6 in /usr/local/lib/python3.6/dist-packages (from snuggs>=1.4.1->rasterio) (2.4.7)\n"
          ],
          "name": "stdout"
        }
      ]
    },
    {
      "cell_type": "code",
      "metadata": {
        "id": "vBWmveB8Z30m"
      },
      "source": [
        "# '/content/drive/Shared drives/ETCRS/MAPASMORFOMETRICOS'\n",
        "ruta_in='/content/drive/Shared drives/ETCRS/Scoops3D/Prueba/santalucia/Insumos/'\n",
        "ruta_out='/content/drive/Shared drives/ETCRS/Scoops3D/Prueba/santalucia/Resultados/'"
      ],
      "execution_count": 3,
      "outputs": []
    },
    {
      "cell_type": "code",
      "metadata": {
        "id": "6wdYDuyCDT3_"
      },
      "source": [
        "def inraster(x):\n",
        "  raster = rio.open(ruta_in+x)\n",
        "  raster_read=raster.read(1)\n",
        "  #raster_read=np.where(raster_read==raster_read[0,0],np.nan,raster_read)\n",
        "  return raster_read"
      ],
      "execution_count": 4,
      "outputs": []
    },
    {
      "cell_type": "code",
      "metadata": {
        "id": "vpX4IyKAEdDQ"
      },
      "source": [
        "dem = inraster('dem.tif')\n",
        "cohesion1 = inraster('cohesion1.tif')\n",
        "cohesion2 = inraster('cohesion2.tif')\n",
        "cohesion3 = inraster('cohesion3.tif')\n",
        "phy1 = inraster('phy1.tif')\n",
        "phy2 = inraster('phy2.tif')\n",
        "phy3 = inraster('phy3.tif')\n",
        "gamma1 = inraster('gamma1.tif')\n",
        "gamma2 = inraster('gamma2.tif')\n",
        "gamma3 = inraster('gamma3.tif')\n",
        "z1 = inraster('z1.tif')\n",
        "z2 = inraster('z2.tif')\n",
        "z3 = inraster('z3.tif')\n",
        "gammas1 = inraster('gammas1.tif')\n",
        "gammas2 = inraster('gammas2.tif')\n",
        "gammas3 = inraster('gammas3.tif')"
      ],
      "execution_count": 5,
      "outputs": []
    },
    {
      "cell_type": "code",
      "metadata": {
        "id": "m722MD7N0xPz",
        "outputId": "f4d80f15-e78f-4f20-cdab-00bb2434566d",
        "colab": {
          "base_uri": "https://localhost:8080/",
          "height": 51
        }
      },
      "source": [
        "(m, n) = dem.shape\n",
        "a=[[[i, j, z3[m-j, i-1], cohesion3[m-j, i-1], phy3[m-j, i-1], gamma3[m-j, i-1], gammas3[m-j, i-1]],\n",
        "    [i, j, z2[m-j, i-1], cohesion2[m-j, i-1], phy2[m-j, i-1], gamma2[m-j, i-1], gammas2[m-j, i-1]],\n",
        "    [i, j, z1[m-j, i-1], cohesion1[m-j, i-1], phy1[m-j, i-1], gamma1[m-j, i-1], gammas1[m-j, i-1]]] \n",
        "   for j in range(1,m+1) for i in range(1,n+1) if dem[m-j, i-1] != -9999.0 and dem[m-j, i-1] != \"-9999\"]\n",
        "with open(\"/content/drive/My Drive/out.txt\",\"w\") as f:\n",
        "    wr = csv.writer(f)\n",
        "    wr.writerows(x for x in chain.from_iterable(a))"
      ],
      "execution_count": 6,
      "outputs": [
        {
          "output_type": "stream",
          "text": [
            "List completed\n",
            " exporting\n"
          ],
          "name": "stdout"
        }
      ]
    }
  ]
}